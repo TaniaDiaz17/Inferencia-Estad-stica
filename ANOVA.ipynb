{
  "nbformat": 4,
  "nbformat_minor": 0,
  "metadata": {
    "colab": {
      "provenance": []
    },
    "kernelspec": {
      "name": "python3",
      "display_name": "Python 3"
    },
    "language_info": {
      "name": "python"
    }
  },
  "cells": [
    {
      "cell_type": "code",
      "execution_count": null,
      "metadata": {
        "id": "QWvTsXOG0NB3"
      },
      "outputs": [],
      "source": [
        "import numpy as np\n",
        "from scipy.stats import f"
      ]
    },
    {
      "cell_type": "code",
      "source": [
        "import matplotlib.pyplot as plt\n",
        "import numpy as np\n",
        "import scipy.stats as st\n",
        "from scipy.stats import f\n",
        "from math import sqrt\n",
        "import statistics\n",
        "import pandas as pd\n",
        "from scipy.stats import shapiro, levene, bartlett\n",
        "from google.colab import files\n",
        "from google.colab import drive\n",
        "drive.mount('/content/drive')"
      ],
      "metadata": {
        "id": "-XiqgOBgiQxt",
        "colab": {
          "base_uri": "https://localhost:8080/"
        },
        "outputId": "12945c52-3961-4fac-9fb9-76686cd04804"
      },
      "execution_count": null,
      "outputs": [
        {
          "output_type": "stream",
          "name": "stdout",
          "text": [
            "Drive already mounted at /content/drive; to attempt to forcibly remount, call drive.mount(\"/content/drive\", force_remount=True).\n"
          ]
        }
      ]
    },
    {
      "cell_type": "markdown",
      "source": [
        "#Importamos los datos"
      ],
      "metadata": {
        "id": "2fXWGI8xYyQ1"
      }
    },
    {
      "cell_type": "code",
      "source": [
        "# Cargar los datos desde el archivo CSV\n",
        "datos = pd.read_csv(\"/content/drive/MyDrive/Proyecto de Inferencia /Reto2.csv\")\n",
        "\n",
        "# Dividir los datos en grupos\n",
        "grupo_a = datos[datos['Tratamiento'] == 'A']['Eficacia']\n",
        "grupo_b = datos[datos['Tratamiento'] == 'B']['Eficacia']\n",
        "grupo_c = datos[datos['Tratamiento'] == 'C']['Eficacia']"
      ],
      "metadata": {
        "id": "zVCaurSWYxL3"
      },
      "execution_count": null,
      "outputs": []
    },
    {
      "cell_type": "markdown",
      "source": [
        "#Primer Supuesto : Las Poblaciones se Distribuyen Normal\n"
      ],
      "metadata": {
        "id": "VpErDUTtjJsf"
      }
    },
    {
      "cell_type": "markdown",
      "source": [
        "Para comprobar que nuestros datos provienen de una distribución normal usaremos la prueba de Shapiro Wilk"
      ],
      "metadata": {
        "id": "mlsj2R1PjvJo"
      }
    },
    {
      "cell_type": "markdown",
      "source": [
        "Hipótesis nula (H0): La muestra proviene de una población con una distribución normal.\n",
        "\n",
        "Hipótesis alternativa (H1): La muestra no proviene de una población con una distribución normal."
      ],
      "metadata": {
        "id": "UB86_VPjj8ZR"
      }
    },
    {
      "cell_type": "code",
      "source": [
        "# Verificar normalidad en cada grupo\n",
        "shapiro_test_grupo_a = shapiro(grupo_a)\n",
        "shapiro_test_grupo_b = shapiro(grupo_b)\n",
        "shapiro_test_grupo_c = shapiro(grupo_c)\n",
        "\n",
        "print(\"Prueba de Shapiro-Wilk para Grupo A:\", shapiro_test_grupo_a)\n",
        "print(\"Prueba de Shapiro-Wilk para Grupo B:\", shapiro_test_grupo_b)\n",
        "print(\"Prueba de Shapiro-Wilk para Grupo C:\", shapiro_test_grupo_c)"
      ],
      "metadata": {
        "colab": {
          "base_uri": "https://localhost:8080/"
        },
        "id": "OEW1-j4mjp2y",
        "outputId": "ca9e1881-2386-43d9-bf5f-5d79bfd7891a"
      },
      "execution_count": null,
      "outputs": [
        {
          "output_type": "stream",
          "name": "stdout",
          "text": [
            "Prueba de Shapiro-Wilk para Grupo A: ShapiroResult(statistic=0.9823750257492065, pvalue=0.6555035710334778)\n",
            "Prueba de Shapiro-Wilk para Grupo B: ShapiroResult(statistic=0.9870157837867737, pvalue=0.8535816669464111)\n",
            "Prueba de Shapiro-Wilk para Grupo C: ShapiroResult(statistic=0.9626771211624146, pvalue=0.11509501188993454)\n"
          ]
        }
      ]
    },
    {
      "cell_type": "markdown",
      "source": [
        "Usando una significancia del 0,05\n",
        "podemos ver que para las tres muestras los p-valores son mayores que la significancia. Por lo tanto no hay suficiente evidencia cientifica para rechazar la hipótesis nula, asi que ambas muestras provienen de una distribución normal."
      ],
      "metadata": {
        "id": "8Jt766hlkF3p"
      }
    },
    {
      "cell_type": "markdown",
      "source": [
        "# Segundo Supuesto: Homogeneidad de Varianzas"
      ],
      "metadata": {
        "id": "uoP_1XqSkLqK"
      }
    },
    {
      "cell_type": "markdown",
      "source": [
        "Para verificar el supuesto que las varianzas de los datos son iguales usaremos el test Bartlett."
      ],
      "metadata": {
        "id": "2GYfHDqHAoq1"
      }
    },
    {
      "cell_type": "markdown",
      "source": [
        "Hipótesis nula (H0): Las varianzas de todos los grupos son iguales (homogeneidad de varianzas).\n",
        "\n",
        "Hipótesis alternativa (H1): Al menos una de las varianzas es diferente."
      ],
      "metadata": {
        "id": "t_tArEcwA6Oh"
      }
    },
    {
      "cell_type": "code",
      "source": [
        "# Verificar homogeneidad de varianzas entre los grupos\n",
        "levene_test = levene(grupo_a, grupo_b, grupo_c)\n",
        "print(\"Prueba de Levene para homogeneidad de varianzas:\", levene_test)\n",
        "\n",
        "print(\"se cumplen los supuestos \")"
      ],
      "metadata": {
        "id": "Gr4j60Pikfv8",
        "colab": {
          "base_uri": "https://localhost:8080/"
        },
        "outputId": "88992c0a-487d-4f66-bc3b-ce473605f397"
      },
      "execution_count": null,
      "outputs": [
        {
          "output_type": "stream",
          "name": "stdout",
          "text": [
            "Prueba de Levene para homogeneidad de varianzas: LeveneResult(statistic=1.1387721652602372, pvalue=0.3230201877430276)\n",
            "se cumplen los supuestos \n"
          ]
        }
      ]
    },
    {
      "cell_type": "code",
      "source": [
        "# Realizar la prueba de Bartlett\n",
        "estadistica_bartlett, p_valor_bartlett = bartlett(grupo_a,grupo_b,grupo_c)\n",
        "\n",
        "# Imprimir los resultados\n",
        "print(\"Estadística de prueba de Bartlett:\", estadistica_bartlett)\n",
        "print(\"Valor p de la prueba de Bartlett:\", p_valor_bartlett)\n",
        "\n",
        "# Interpretar los resultados\n",
        "nivel_significancia = 0.05\n",
        "if p_valor_bartlett < nivel_significancia:\n",
        "    print(\"Las varianzas de los grupos son diferentes (rechazamos H0)\")\n",
        "else:\n",
        "    print(\"Las varianzas de los grupos son iguales (no rechazamos H0)\")"
      ],
      "metadata": {
        "colab": {
          "base_uri": "https://localhost:8080/"
        },
        "id": "_1gKVQ00k6fJ",
        "outputId": "a9912a03-3219-4144-d011-3c18388a817d"
      },
      "execution_count": null,
      "outputs": [
        {
          "output_type": "stream",
          "name": "stdout",
          "text": [
            "Estadística de prueba de Bartlett: 3.5258958194536407\n",
            "Valor p de la prueba de Bartlett: 0.17153843791121673\n",
            "Las varianzas de los grupos son iguales (no rechazamos H0)\n"
          ]
        }
      ]
    },
    {
      "cell_type": "markdown",
      "source": [
        "Usando una significancia del 0,05 podemos ver que el p-valor es mayor que la significancia. Por lo tanto no hay suficiente evidencia cientifica para rechazar la hipótesis nula, las varianzas de las muestras son iguales."
      ],
      "metadata": {
        "id": "uhEXEXaFBI0E"
      }
    },
    {
      "cell_type": "markdown",
      "source": [
        "**Ya que los supuestos se cumplieron, podemos realizar la prueba ANOVA con normalidad sin necesidad de transformar los datos**"
      ],
      "metadata": {
        "id": "aMgQzOtCnDEb"
      }
    },
    {
      "cell_type": "markdown",
      "source": [
        "#Prueba ANOVA"
      ],
      "metadata": {
        "id": "fXevBUABnStz"
      }
    },
    {
      "cell_type": "code",
      "source": [
        "#:p\n",
        "import numpy as np\n",
        "from scipy.stats import f_oneway\n",
        "\n",
        "# Realizar la prueba ANOVA\n",
        "f_statistic, p_value = f_oneway(grupo_a, grupo_b, grupo_c)\n",
        "\n",
        "# Imprimir los resultados\n",
        "print(\"Estadístico F:\", f_statistic)\n",
        "print(\"Valor p:\", p_value)\n",
        "\n",
        "# Interpretación del resultado\n",
        "alpha = 0.05\n",
        "if p_value < alpha:\n",
        "    print(\"Se rechaza la hipótesis nula. Hay diferencias significativas entre los grupos.\")\n",
        "else:\n",
        "    print(\"No se puede rechazar la hipótesis nula. No hay diferencias significativas entre los grupos.\")\n"
      ],
      "metadata": {
        "colab": {
          "base_uri": "https://localhost:8080/"
        },
        "id": "YmIwXzXzvdR0",
        "outputId": "93bdda73-14e1-419e-b766-238ee773efc7"
      },
      "execution_count": null,
      "outputs": [
        {
          "output_type": "stream",
          "name": "stdout",
          "text": [
            "Estadístico F: 12.02635807540055\n",
            "Valor p: 1.4546916965660867e-05\n",
            "Se rechaza la hipótesis nula. Hay diferencias significativas entre los grupos.\n"
          ]
        }
      ]
    },
    {
      "cell_type": "code",
      "source": [
        "import numpy as np\n",
        "import scipy.stats as stats\n",
        "import pandas as pd\n",
        "\n",
        "def anova(a, b, c, sign=0.05):\n",
        "    # Tamaño de cada grupo\n",
        "    tamaños_grupos = [len(a), len(b), len(c)]\n",
        "\n",
        "    # Media de cada grupo\n",
        "    media_a = np.mean(a)\n",
        "    media_b = np.mean(b)\n",
        "    media_c = np.mean(c)\n",
        "\n",
        "    # Media de todos los datos\n",
        "    todos_los_datos = np.concatenate([a, b, c])\n",
        "    media_total = np.mean(todos_los_datos)\n",
        "\n",
        "    # Suma de cuadrados total (STC)\n",
        "    stc = np.sum((todos_los_datos - media_total)**2)\n",
        "\n",
        "    # Suma de cuadrados entre grupos (SCTR)\n",
        "    sctr = np.sum(tamaños_grupos * (np.array([media_a, media_b, media_c]) - media_total)**2)\n",
        "\n",
        "    # Suma de cuadrados dentro de los grupos (SCD)\n",
        "    scd = np.sum((a - media_a)**2) + np.sum((b - media_b)**2) + np.sum((c - media_c)**2)\n",
        "\n",
        "    # Suma de cuadrados de los errores (SCE)\n",
        "    sce = stc - sctr\n",
        "\n",
        "    # Grados de libertad\n",
        "    gl_num = len(tamaños_grupos) - 1\n",
        "    gl_dem = len(todos_los_datos) - len(tamaños_grupos)\n",
        "\n",
        "    # Calcular la estadística F\n",
        "    F = ((sctr / gl_num) / (sce / gl_dem))\n",
        "\n",
        "    # Calcular el valor p\n",
        "    valor_p = 1 - stats.f.cdf(F, gl_num, gl_dem)  # Corrección aquí\n",
        "\n",
        "    # Imprimir resultados\n",
        "    if sign > valor_p:\n",
        "        print(\"Hay suficiente evidencia para rechazar Ho: Las medias poblacionales son diferentes\")\n",
        "    else:\n",
        "        print(\"No hay suficiente evidencia para rechazar Ho: Las medias poblacionales son iguales\")\n",
        "\n",
        "    # Tabla ANOVA\n",
        "    datos = {\n",
        "        'Fuente Var': [\"Tratamientos\", \"Error\", \"Total\"],\n",
        "        'Suma Cuad': [sctr, sce, stc],\n",
        "        'Gl': [gl_num, gl_dem, gl_num + gl_dem],\n",
        "        'Cuadr Med': [(sctr / gl_num), (sce / gl_dem), ''],\n",
        "        'F': ['', F, ''],\n",
        "        'Valor-p': ['', valor_p, '']\n",
        "    }\n",
        "    # Crear DataFrame con los datos de la tabla ANOVA\n",
        "    tabla_anova = pd.DataFrame(datos)\n",
        "    print(\"\\nTabla ANOVA:\")\n",
        "    print(tabla_anova)\n",
        "\n",
        "# Asegúrate de reemplazar grupo_a, grupo_b, grupo_c con tus datos reales\n",
        "anova(grupo_a, grupo_b, grupo_c)\n"
      ],
      "metadata": {
        "colab": {
          "base_uri": "https://localhost:8080/"
        },
        "id": "fKOQm22O1G7_",
        "outputId": "0112b59b-57f2-471f-b1b9-768b99321c30"
      },
      "execution_count": null,
      "outputs": [
        {
          "output_type": "stream",
          "name": "stdout",
          "text": [
            "Hay suficiente evidencia para rechazar Ho: Las medias poblacionales son diferentes\n",
            "\n",
            "Tabla ANOVA:\n",
            "     Fuente Var     Suma Cuad   Gl    Cuadr Med          F   Valor-p\n",
            "0  Tratamientos   3429.288719    2  1714.644359                     \n",
            "1         Error  20958.358238  147   142.573866  12.026358  0.000015\n",
            "2         Total  24387.646957  149                                  \n"
          ]
        }
      ]
    }
  ]
}