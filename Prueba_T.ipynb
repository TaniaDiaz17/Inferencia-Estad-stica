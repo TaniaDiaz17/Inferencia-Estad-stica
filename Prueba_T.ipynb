{
 "cells": [
  {
   "cell_type": "code",
   "execution_count": null,
   "metadata": {
    "id": "fW7jh8KEdsBZ"
   },
   "outputs": [],
   "source": [
    "import matplotlib.pyplot as plt\n",
    "import numpy as np\n",
    "import scipy.stats as st\n",
    "from scipy.stats import t\n",
    "from math import sqrt, floor\n",
    "import statistics\n",
    "import pandas as pd\n",
    "from scipy.stats import shapiro, levene,bartlett"
   ]
  },
  {
   "cell_type": "markdown",
   "metadata": {
    "id": "rOj2mO3OY-VP"
   },
   "source": [
    "Importamos los datos"
   ]
  },
  {
   "cell_type": "code",
   "execution_count": null,
   "metadata": {
    "id": "5o2tDRb9Zpju"
   },
   "outputs": [],
   "source": [
    "datos = pd.read_csv(\"Reto1.csv\")\n",
    "\n",
    "grupo_a = datos[datos['Grupo'] == 'A']['Satisfacción']\n",
    "grupo_b = datos[datos['Grupo'] == 'B']['Satisfacción']\n",
    "\n",
    "# Mostrar los primeros registros de cada grupo para verificar\n",
    "print(\"Grupo A:\")\n",
    "print(grupo_a.head(10))\n",
    "\n",
    "print(\"\\nGrupo B:\")\n",
    "print(grupo_b.head(10))"
   ]
  },
  {
   "cell_type": "markdown",
   "metadata": {
    "id": "yHTCtWWmj2TB"
   },
   "source": [
    "Primer Supuesto: las dos poblaciones de distribuyen normal"
   ]
  },
  {
   "cell_type": "markdown",
   "metadata": {
    "id": "P9mp-F_T9H81"
   },
   "source": [
    "Para comprobar que nuestros datos provienen de una distribución normal usaremos la prueba de Shapiro Wilk"
   ]
  },
  {
   "cell_type": "markdown",
   "metadata": {
    "id": "pFQL-LeA9dfa"
   },
   "source": [
    "La prueba de Shapiro-Wilk es una prueba estadística utilizada para evaluar si una muestra de datos sigue una distribución normal o gaussiana. Funciona comparando los valores observados con los valores esperados bajo la hipótesis nula de normalidad."
   ]
  },
  {
   "cell_type": "markdown",
   "metadata": {
    "id": "-b_UfZA9-Dgf"
   },
   "source": [
    "Hipótesis nula (H0): La muestra proviene de una población con una distribución normal.\n",
    "\n",
    "Hipótesis alternativa (H1): La muestra no proviene de una población con una distribución normal."
   ]
  },
  {
   "cell_type": "code",
   "execution_count": null,
   "metadata": {
    "colab": {
     "base_uri": "https://localhost:8080/"
    },
    "id": "5I404kuDfkJP",
    "outputId": "a967c546-c7be-4f12-adac-c9c6eff4836a"
   },
   "outputs": [
    {
     "name": "stdout",
     "output_type": "stream",
     "text": [
      "Shapiro-Wilk test para Grupo A: ShapiroResult(statistic=0.9827495217323303, pvalue=0.6722097396850586)\n",
      "Shapiro-Wilk test para Grupo B: ShapiroResult(statistic=0.9713166952133179, pvalue=0.26161736249923706)\n"
     ]
    }
   ],
   "source": [
    "# Verificar normalidad en el Grupo A\n",
    "shapiro_test_a = shapiro(grupo_a)\n",
    "print(\"Shapiro-Wilk test para Grupo A:\", shapiro_test_a)\n",
    "\n",
    "# Verificar normalidad en el Grupo B\n",
    "shapiro_test_b = shapiro(grupo_b)\n",
    "print(\"Shapiro-Wilk test para Grupo B:\", shapiro_test_b)"
   ]
  },
  {
   "cell_type": "markdown",
   "metadata": {
    "id": "ZR-xmU3v-QKF"
   },
   "source": [
    "Usando una significancia del 0,05\n",
    "podemos ver que para ambas muestras los p-valores son mayores que la significancia. Por lo tanto no hay suficiente evidencia cientifica para rechazar la hipótesis nula, asi que ambas muestras provienen de una distribución normal."
   ]
  },
  {
   "cell_type": "markdown",
   "metadata": {
    "id": "uoP_1XqSkLqK"
   },
   "source": [
    "# Segundo Supuesto: Homogeneidad de Varianzas"
   ]
  },
  {
   "cell_type": "markdown",
   "metadata": {
    "id": "2GYfHDqHAoq1"
   },
   "source": [
    "Para verificar el supuesto que las varianzas de los datos son iguales usaremos el test Bartlett."
   ]
  },
  {
   "cell_type": "markdown",
   "metadata": {
    "id": "AQ2AhS3NANl0"
   },
   "source": [
    "\n",
    "La prueba de Bartlett es una prueba estadística utilizada para evaluar si las varianzas de dos o más grupos de datos son iguales. Es una prueba paramétrica que asume que los datos provienen de distribuciones normales."
   ]
  },
  {
   "cell_type": "markdown",
   "metadata": {
    "id": "t_tArEcwA6Oh"
   },
   "source": [
    "Hipótesis nula (H0): Las varianzas de todos los grupos son iguales (homogeneidad de varianzas).\n",
    "\n",
    "Hipótesis alternativa (H1): Al menos una de las varianzas es diferente."
   ]
  },
  {
   "cell_type": "code",
   "execution_count": null,
   "metadata": {
    "colab": {
     "base_uri": "https://localhost:8080/"
    },
    "id": "PJI6Oymz_hJP",
    "outputId": "acd9a1f8-abdc-4eb3-8939-99bc9b496f04"
   },
   "outputs": [
    {
     "name": "stdout",
     "output_type": "stream",
     "text": [
      "Estadística de prueba de Bartlett: 5.495874887849253\n",
      "Valor p de la prueba de Bartlett: 0.019061387916391257\n",
      "Las varianzas de los grupos son diferentes (rechazamos H0)\n"
     ]
    }
   ],
   "source": [
    "# Realizar la prueba de Bartlett\n",
    "estadistica_bartlett, p_valor_bartlett = bartlett(grupo_a,grupo_b)\n",
    "\n",
    "# Imprimir los resultados\n",
    "print(\"Estadística de prueba de Bartlett:\", estadistica_bartlett)\n",
    "print(\"Valor p de la prueba de Bartlett:\", p_valor_bartlett)\n",
    "\n",
    "# Interpretar los resultados\n",
    "nivel_significancia = 0.05\n",
    "if p_valor_bartlett < nivel_significancia:\n",
    "    print(\"Las varianzas de los grupos son diferentes (rechazamos H0)\")\n",
    "else:\n",
    "    print(\"Las varianzas de los grupos son iguales (no rechazamos H0)\")\n"
   ]
  },
  {
   "cell_type": "markdown",
   "metadata": {
    "id": "uhEXEXaFBI0E"
   },
   "source": [
    "Usando una significancia del 0,05 podemos ver que el p-valor es menor que la significancia. Por lo tanto hay suficiente evidencia cientifica para rechazar la hipótesis nula, las varianzas de las muestras son diferentes"
   ]
  },
  {
   "cell_type": "markdown",
   "metadata": {
    "id": "zGsaDZdHl_hb"
   },
   "source": [
    " **Todos los supuestos no se cumplen, pero aún asi realizaremos la prueba**"
   ]
  },
  {
   "cell_type": "markdown",
   "metadata": {
    "id": "R9jDCt-bkSkZ"
   },
   "source": [
    "Prueba T con los datos originales"
   ]
  },
  {
   "cell_type": "code",
   "execution_count": null,
   "metadata": {
    "id": "T7xjjTAncr6s"
   },
   "outputs": [],
   "source": [
    "def prueba_t_student(a,b,n_colas = 2,significancia = 0.05):\n",
    "  # Calcular la media, el tamaño de la muestra, desviación estandar muestral y los grados de libertad\n",
    "  media_a = np.mean(a)\n",
    "  media_b = np.mean(b)\n",
    "  n_a = len(a)\n",
    "  n_b = len(b)\n",
    "  s_a = np.std(a)\n",
    "  s_b = np.std(b)\n",
    "  gl = (s_a **2/n_a + s_b **2/n_b)**2 / ((1/(n_a - 1)*(s_a **2/n_a)**2) + ((1/(n_b - 1)*(s_b **2/n_b)**2)))\n",
    "  #imprimir información importante\n",
    "  print(\"Ho = Las muestras vienen de la misma población\")\n",
    "  print(\"Ha = Las muestras provienen de poblaciones diferentes\")\n",
    "  print(f\"Medias muestrales de muestra A = {media_a}, muestra B = {media_b}\")\n",
    "  print(f\"Tamaños de la muestra A = {n_a}, muestra B = {n_b}\")\n",
    "  print(f\"Desviaciónes Estandar de la muestra A = {s_a}, muestra B = {s_b}\")\n",
    "  print(f\"Grados de Libertad = {gl}\")\n",
    "\n",
    "  #\n",
    "  print(f\"x̄1 - x̄2 ~ N(μ^x̄1 - μ^x̄2 = μ1 - μ2,s^x̄1-x̄2 = {sqrt(s_a**2/n_a +s_b**2/n_b )})\")\n",
    "  print(\"-------------------------------------------------------------------\")\n",
    "  print(\"Valor Critico :\")\n",
    "  if n_colas == 2:\n",
    "    # Calculamos los intervalos de confianza\n",
    "    significancia_dos_colas = round(significancia/2, 3)\n",
    "    t_valor = t.ppf(1 - significancia_dos_colas, gl)# Calcula el valor crítico de t\n",
    "    me = abs(t_valor * sqrt(s_a**2/n_a +s_b**2/n_b ))\n",
    "    d = media_a - media_b\n",
    "    d_izq = round(d - me,3)\n",
    "    d_der = round(d + me,3)\n",
    "  #imprimir información importante\n",
    "  print(\"significancia para dos colas = \", significancia_dos_colas)\n",
    "  print(\"t_valor = \",t_valor)\n",
    "  print(\"me = \",me)\n",
    "  print(\"d = \",d)\n",
    "  print(f\"intervalo confianza = [{d_izq},{d_der}]\")\n",
    "\n",
    "  if d_izq < d <d_der:\n",
    "        print(\"La diferencia de la media muestral está fuera de la zona de rechazo\")\n",
    "        print(\"Conclusión --> No hay suficiente evidencia para rechazar la Hipotesis Nula. Las muestras provienen de la misma población\")\n",
    "  else:\n",
    "        print(\"La diferencia de la media muestral está en la zona de rechazo\")\n",
    "        print(\"Conclusión --> Hay suficiente evidencia para rechazar la Hipotesis Nula.  Las muestras provienen de diferentes poblaciones\")\n",
    "\n",
    "  print(\"-------------------------------------------------------------------\")\n",
    "  print(\"P-Valor :\")\n",
    "  t_valor2 = d / sqrt((s_a**2)/n_a + (s_b**2)/n_b )\n",
    "  print(\"probabilidad acumulada = \",t.cdf(t_valor2,gl))\n",
    "  p_valor = 2 * (1 - t.cdf(abs(t_valor2), gl))\n",
    "  #Imprimir información importante\n",
    "  print(\"t_valor  = \",t_valor2)\n",
    "  print(\"p_valor = \",p_valor)\n",
    "\n",
    "  if p_valor < significancia:\n",
    "    print(p_valor,\"<\",significancia)\n",
    "    print(\"Conclusión --> Hay suficiente evidencia para rechazar la Hipotesis Nula. Las muestras provienen de diferentes poblaciones\")\n",
    "  else:\n",
    "    print(p_valor,\">\",significancia)\n",
    "    print(\"Conclusión --> No hay suficiente evidencia para rechazar la Hipotesis Nula. Las muestras provienen de la misma población\")\n"
   ]
  },
  {
   "cell_type": "code",
   "execution_count": null,
   "metadata": {
    "colab": {
     "base_uri": "https://localhost:8080/"
    },
    "id": "j6rzyskW1VK-",
    "outputId": "472ee4e8-e25a-48c8-a727-2639775cbcf6"
   },
   "outputs": [
    {
     "name": "stdout",
     "output_type": "stream",
     "text": [
      "Ho = Las muestras vienen de la misma población\n",
      "Ha = Las muestras provienen de poblaciones diferentes\n",
      "Medias muestrales de muestra A = 67.7452609474386, muestra B = 65.2667130570193\n",
      "Tamaños de la muestra A = 50, muestra B = 50\n",
      "Desviaciónes Estandar de la muestra A = 9.242849378724245, muestra B = 12.983063679735192\n",
      "Grados de Libertad = 88.5178049116224\n",
      "x̄1 - x̄2 ~ N(μ^x̄1 - μ^x̄2 = μ1 - μ2,s^x̄1-x̄2 = 2.253842084751468)\n",
      "-------------------------------------------------------------------\n",
      "Valor Critico :\n",
      "significancia para dos colas =  0.025\n",
      "t_valor =  1.9871278522131859\n",
      "me =  4.478672381099874\n",
      "d =  2.478547890419293\n",
      "intervalo confianza = [-2.0,6.957]\n",
      "La diferencia de la media muestral está fuera de la zona de rechazo\n",
      "Conclusión --> No hay suficiente evidencia para rechazar la Hipotesis Nula. Las muestras provienen de la misma población\n",
      "-------------------------------------------------------------------\n",
      "P-Valor :\n",
      "probabilidad acumulada =  0.8627774358093039\n",
      "t_valor  =  1.0996990016239772\n",
      "p_valor =  0.27444512838139223\n",
      "0.27444512838139223 > 0.05\n",
      "Conclusión --> No hay suficiente evidencia para rechazar la Hipotesis Nula. Las muestras provienen de la misma población\n"
     ]
    }
   ],
   "source": [
    "prueba_t_student(grupo_a,grupo_b)"
   ]
  },
  {
   "cell_type": "markdown",
   "metadata": {
    "id": "uFfl2qILmcu7"
   },
   "source": [
    "**Ya que los supuestos no se cumplieron trataremos de ver una forma de ajustar los datos y ver si podemos transformarlos para intentar cumplir los supuestos**"
   ]
  },
  {
   "cell_type": "markdown",
   "metadata": {
    "id": "gcNPFeZZ5zyp"
   },
   "source": [
    "Prueba T con los datos transformados"
   ]
  },
  {
   "cell_type": "markdown",
   "metadata": {
    "id": "SZcV9bot57iw"
   },
   "source": [
    "Transformación inversa:\n",
    "La transformación inversa es útil cuando los datos están sesgados hacia valores más bajos. Puedes aplicar la inversión de tus datos restando cada valor de un número constante o dividiéndolo por un número constante.\n",
    "python"
   ]
  },
  {
   "cell_type": "markdown",
   "metadata": {
    "id": "Jc2EODM97wNt"
   },
   "source": [
    "Como pudimos ver en el Análisis exploratorio, se puede observar que el grupo b esta sesgado, por lo tanto decidimos por esta razón transformar los datos con el método \"Transformación inversa\"."
   ]
  },
  {
   "cell_type": "code",
   "execution_count": null,
   "metadata": {
    "id": "NE6ZNmTa5444"
   },
   "outputs": [],
   "source": [
    "# Aplicar transformación inversa\n",
    "constante = 100\n",
    "grupo_b_transformado = constante - np.array(grupo_b)\n",
    "\n",
    "grupo_a_transformado = constante - np.array(grupo_a)\n",
    "\n",
    "print(\"Datos originales:\", grupo_b)\n",
    "print(\"Datos transformados (inversa):\", grupo_b_transformado)"
   ]
  },
  {
   "cell_type": "markdown",
   "metadata": {
    "id": "XIdWiJIe6kOU"
   },
   "source": [
    "Supuestos con los datos transformados"
   ]
  },
  {
   "cell_type": "code",
   "execution_count": null,
   "metadata": {
    "colab": {
     "base_uri": "https://localhost:8080/"
    },
    "id": "YVojtPrf6sfb",
    "outputId": "1da3db2f-ee22-4c8b-ee2b-aed751502b53"
   },
   "outputs": [
    {
     "name": "stdout",
     "output_type": "stream",
     "text": [
      "Shapiro-Wilk test para Grupo A: ShapiroResult(statistic=0.9827495217323303, pvalue=0.6722097396850586)\n",
      "Shapiro-Wilk test para Grupo B: ShapiroResult(statistic=0.9713165163993835, pvalue=0.2616133987903595)\n"
     ]
    }
   ],
   "source": [
    "# Verificar normalidad en el Grupo A\n",
    "shapiro_test_a = shapiro(grupo_a_transformado)\n",
    "print(\"Shapiro-Wilk test para Grupo A:\", shapiro_test_a)\n",
    "\n",
    "# Verificar normalidad en el Grupo B\n",
    "shapiro_test_b = shapiro(grupo_b_transformado)\n",
    "print(\"Shapiro-Wilk test para Grupo B:\", shapiro_test_b)"
   ]
  },
  {
   "cell_type": "markdown",
   "metadata": {
    "id": "wbjlHgkuf-qC"
   },
   "source": [
    "La prueba de Shapiro Wilk sigue diciendonos que los datos se distribuyen normal."
   ]
  },
  {
   "cell_type": "code",
   "execution_count": null,
   "metadata": {
    "colab": {
     "base_uri": "https://localhost:8080/"
    },
    "id": "Xkjvw7Ze6uTi",
    "outputId": "430373d7-8740-4b1d-8949-5b2719e8a511"
   },
   "outputs": [
    {
     "name": "stdout",
     "output_type": "stream",
     "text": [
      "Prueba de Levene para homogeneidad de varianzas: LeveneResult(statistic=4.030456271317731, pvalue=0.04743905991523835)\n"
     ]
    }
   ],
   "source": [
    "from scipy.stats import levene\n",
    "\n",
    "# Aplicar la prueba de Levene para verificar la homogeneidad de varianzas\n",
    "levene_test = levene(grupo_a, grupo_b_transformado)\n",
    "print(\"Prueba de Levene para homogeneidad de varianzas:\", levene_test)"
   ]
  },
  {
   "cell_type": "code",
   "execution_count": null,
   "metadata": {
    "colab": {
     "base_uri": "https://localhost:8080/"
    },
    "id": "WdR-CbFI_qIC",
    "outputId": "1a9476fb-7031-4caf-b051-ed9787f66efa"
   },
   "outputs": [
    {
     "name": "stdout",
     "output_type": "stream",
     "text": [
      "Estadística de prueba de Bartlett: 5.495874887849253\n",
      "Valor p de la prueba de Bartlett: 0.019061387916391257\n",
      "Las varianzas de los grupos son diferentes (rechazamos H0)\n"
     ]
    }
   ],
   "source": [
    "from scipy.stats import bartlett\n",
    "# Realizar la prueba de Bartlett\n",
    "estadistica_bartlett, p_valor_bartlett = bartlett(grupo_a_transformado,grupo_b_transformado)\n",
    "\n",
    "# Imprimir los resultados\n",
    "print(\"Estadística de prueba de Bartlett:\", estadistica_bartlett)\n",
    "print(\"Valor p de la prueba de Bartlett:\", p_valor_bartlett)\n",
    "\n",
    "# Interpretar los resultados\n",
    "nivel_significancia = 0.05\n",
    "if p_valor_bartlett < nivel_significancia:\n",
    "    print(\"Las varianzas de los grupos son diferentes (rechazamos H0)\")\n",
    "else:\n",
    "    print(\"Las varianzas de los grupos son iguales (no rechazamos H0)\")\n"
   ]
  },
  {
   "cell_type": "markdown",
   "metadata": {
    "id": "OmUAMOkOgwmj"
   },
   "source": [
    "Apesar de transformar los datos, la prueba Bartlett nos sigue diciendo que las varinzas son diferentes."
   ]
  },
  {
   "cell_type": "code",
   "execution_count": null,
   "metadata": {
    "colab": {
     "base_uri": "https://localhost:8080/"
    },
    "id": "PsXVj8h16_s_",
    "outputId": "e883f43c-f75f-492c-a8bc-cc63b5751b42"
   },
   "outputs": [
    {
     "name": "stdout",
     "output_type": "stream",
     "text": [
      "Ho = Las muestras vienen de la misma población\n",
      "Ha = Las muestras provienen de poblaciones diferentes\n",
      "Medias muestrales de muestra A = 32.2547390525614, muestra B = 34.73328694298071\n",
      "Tamaños de la muestra A = 50, muestra B = 50\n",
      "Desviaciónes Estandar de la muestra A = 9.242849378724245, muestra B = 12.98306367973519\n",
      "Grados de Libertad = 88.51780491162242\n",
      "x̄1 - x̄2 ~ N(μ^x̄1 - μ^x̄2 = μ1 - μ2,s^x̄1-x̄2 = 2.253842084751468)\n",
      "-------------------------------------------------------------------\n",
      "Valor Critico :\n",
      "significancia para dos colas =  0.025\n",
      "t_valor =  1.9871278522131859\n",
      "me =  4.478672381099874\n",
      "d =  -2.478547890419314\n",
      "intervalo confianza = [-6.957,2.0]\n",
      "La diferencia de la media muestral está fuera de la zona de rechazo\n",
      "Conclusión --> No hay suficiente evidencia para rechazar la Hipotesis Nula. Las muestras provienen de la misma población\n",
      "-------------------------------------------------------------------\n",
      "P-Valor :\n",
      "probabilidad acumulada =  0.137222564190694\n",
      "t_valor  =  -1.0996990016239865\n",
      "p_valor =  0.274445128381388\n",
      "0.274445128381388 > 0.05\n",
      "Conclusión --> No hay suficiente evidencia para rechazar la Hipotesis Nula. Las muestras provienen de la misma población\n"
     ]
    }
   ],
   "source": [
    "prueba_t_student(grupo_a_transformado,grupo_b_transformado)"
   ]
  },
  {
   "cell_type": "markdown",
   "metadata": {
    "id": "GHiwPF3NhAbV"
   },
   "source": [
    "La Prueba T nos dan los mismos resultados, transformar los datos no nos mostró ningun cambio."
   ]
  }
 ],
 "metadata": {
  "colab": {
   "provenance": []
  },
  "kernelspec": {
   "display_name": "Python 3 (ipykernel)",
   "language": "python",
   "name": "python3"
  },
  "language_info": {
   "codemirror_mode": {
    "name": "ipython",
    "version": 3
   },
   "file_extension": ".py",
   "mimetype": "text/x-python",
   "name": "python",
   "nbconvert_exporter": "python",
   "pygments_lexer": "ipython3",
   "version": "3.10.14"
  }
 },
 "nbformat": 4,
 "nbformat_minor": 4
}
